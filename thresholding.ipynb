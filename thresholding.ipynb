{
 "cells": [
  {
   "cell_type": "markdown",
   "id": "0025b622",
   "metadata": {},
   "source": [
    "- len : 1   \n",
    "    - 706152 기준, 크면 0.4, 작으면 0.6\n",
    " \n"
   ]
  },
  {
   "cell_type": "code",
   "execution_count": 527,
   "id": "bbd4d32c",
   "metadata": {},
   "outputs": [],
   "source": [
    "import numpy as np\n",
    "import matplotlib.pyplot as plt\n",
    "import pandas as pd\n",
    "import cv2\n",
    "import random\n",
    "import os\n",
    "from tqdm.auto import tqdm\n",
    "import warnings\n",
    "import albumentations as A\n",
    "warnings.filterwarnings('ignore')"
   ]
  },
  {
   "cell_type": "code",
   "execution_count": 528,
   "id": "93c1695e",
   "metadata": {
    "scrolled": true
   },
   "outputs": [
    {
     "data": {
      "text/plain": [
       "'/home/gyuseonglee/workspace/2301_OCR'"
      ]
     },
     "execution_count": 528,
     "metadata": {},
     "output_type": "execute_result"
    }
   ],
   "source": [
    "os.getcwd()"
   ]
  },
  {
   "cell_type": "code",
   "execution_count": 530,
   "id": "cd97b9b5",
   "metadata": {
    "scrolled": true
   },
   "outputs": [
    {
     "data": {
      "application/vnd.jupyter.widget-view+json": {
       "model_id": "7fa5ba41c54745a583d9f769c14efd98",
       "version_major": 2,
       "version_minor": 0
      },
      "text/plain": [
       "  0%|          | 0/28631 [00:00<?, ?it/s]"
      ]
     },
     "metadata": {},
     "output_type": "display_data"
    },
    {
     "data": {
      "text/html": [
       "<div>\n",
       "<style scoped>\n",
       "    .dataframe tbody tr th:only-of-type {\n",
       "        vertical-align: middle;\n",
       "    }\n",
       "\n",
       "    .dataframe tbody tr th {\n",
       "        vertical-align: top;\n",
       "    }\n",
       "\n",
       "    .dataframe thead th {\n",
       "        text-align: right;\n",
       "    }\n",
       "</style>\n",
       "<table border=\"1\" class=\"dataframe\">\n",
       "  <thead>\n",
       "    <tr style=\"text-align: right;\">\n",
       "      <th></th>\n",
       "      <th>id</th>\n",
       "      <th>img_path</th>\n",
       "      <th>label</th>\n",
       "      <th>len</th>\n",
       "      <th>bgs</th>\n",
       "    </tr>\n",
       "  </thead>\n",
       "  <tbody>\n",
       "    <tr>\n",
       "      <th>0</th>\n",
       "      <td>TRAIN_00002</td>\n",
       "      <td>/home/gyuseonglee/workspace/2301_OCR/data/trai...</td>\n",
       "      <td>차차</td>\n",
       "      <td>2</td>\n",
       "      <td>430</td>\n",
       "    </tr>\n",
       "    <tr>\n",
       "      <th>1</th>\n",
       "      <td>TRAIN_00006</td>\n",
       "      <td>/home/gyuseonglee/workspace/2301_OCR/data/trai...</td>\n",
       "      <td>유월</td>\n",
       "      <td>2</td>\n",
       "      <td>753</td>\n",
       "    </tr>\n",
       "    <tr>\n",
       "      <th>2</th>\n",
       "      <td>TRAIN_00008</td>\n",
       "      <td>/home/gyuseonglee/workspace/2301_OCR/data/trai...</td>\n",
       "      <td>손뼉</td>\n",
       "      <td>2</td>\n",
       "      <td>401</td>\n",
       "    </tr>\n",
       "  </tbody>\n",
       "</table>\n",
       "</div>"
      ],
      "text/plain": [
       "            id                                           img_path label  len  \\\n",
       "0  TRAIN_00002  /home/gyuseonglee/workspace/2301_OCR/data/trai...    차차    2   \n",
       "1  TRAIN_00006  /home/gyuseonglee/workspace/2301_OCR/data/trai...    유월    2   \n",
       "2  TRAIN_00008  /home/gyuseonglee/workspace/2301_OCR/data/trai...    손뼉    2   \n",
       "\n",
       "   bgs  \n",
       "0  430  \n",
       "1  753  \n",
       "2  401  "
      ]
     },
     "execution_count": 530,
     "metadata": {},
     "output_type": "execute_result"
    }
   ],
   "source": [
    "df = pd.read_csv('./data/train.csv')\n",
    "df['len'] = df['label'].str.len()\n",
    "# df = df[df['len']<3].reset_index()\n",
    "df['img_path'] = df['img_path'].str.replace(\"./train\", \"/home/gyuseonglee/workspace/2301_OCR/data/train\")\n",
    "\n",
    "ones = df[df['len']==2].reset_index()\n",
    "del ones['index']\n",
    "bgs = []\n",
    "for idx in tqdm(range(len(ones))):\n",
    "    img = cv2.imread(ones['img_path'][idx], 0)\n",
    "    img = A.Resize(height=64, width=128)(image=img)['image']\n",
    "    bg = len(img[img<150])\n",
    "    bgs.append(bg)\n",
    "ones['bgs'] = bgs\n",
    "ones.head(3)\n",
    "\n"
   ]
  },
  {
   "cell_type": "code",
   "execution_count": 531,
   "id": "565a9d6c",
   "metadata": {},
   "outputs": [
    {
     "name": "stdout",
     "output_type": "stream",
     "text": [
      "28631\n"
     ]
    },
    {
     "data": {
      "text/plain": [
       "<AxesSubplot: >"
      ]
     },
     "execution_count": 531,
     "metadata": {},
     "output_type": "execute_result"
    },
    {
     "data": {
      "image/png": "[encoded data removed]",
      "text/plain": [
       "<Figure size 640x480 with 1 Axes>"
      ]
     },
     "metadata": {},
     "output_type": "display_data"
    }
   ],
   "source": [
    "target = 'bgs'\n",
    "print(len(ones))\n",
    "ones = ones.sort_values([target]).reset_index();\n",
    "del ones['index']\n",
    "ones[target].plot()"
   ]
  },
  {
   "cell_type": "code",
   "execution_count": 550,
   "id": "89a97f62",
   "metadata": {
    "scrolled": false
   },
   "outputs": [
    {
     "name": "stdout",
     "output_type": "stream",
     "text": [
      "6000\n",
      "372\n",
      "고속\n"
     ]
    },
    {
     "data": {
      "text/plain": [
       "<matplotlib.image.AxesImage at 0x7fa3d5363970>"
      ]
     },
     "execution_count": 550,
     "metadata": {},
     "output_type": "execute_result"
    },
    {
     "data": {
      "image/png": "[encoded data removed]",
      "text/plain": [
       "<Figure size 640x480 with 1 Axes>"
      ]
     },
     "metadata": {},
     "output_type": "display_data"
    }
   ],
   "source": [
    "# idx = len(ones)//2\n",
    "\n",
    "idx = 6000\n",
    "\n",
    "print(idx)\n",
    "img_blur = cv2.imread(ones['img_path'][idx], 0)\n",
    "print(ones[target][idx])\n",
    "print(ones['label'][idx])\n",
    "# if img_blur.sum() < 540000:\n",
    "#     img_blur = img_blur -20\n",
    "\n",
    "# img_blur[img_blur>150] = 255\n",
    "# thresholding\n",
    "_, img_blur = cv2.threshold(img_blur, img_blur.mean()*0.85, 255, cv2.THRESH_BINARY)\n",
    "plt.imshow(img_blur)"
   ]
  },
  {
   "cell_type": "code",
   "execution_count": 390,
   "id": "c95a1b08",
   "metadata": {},
   "outputs": [
    {
     "data": {
      "text/plain": [
       "2272"
      ]
     },
     "execution_count": 390,
     "metadata": {},
     "output_type": "execute_result"
    }
   ],
   "source": [
    "len(img_blur[img_blur>245])"
   ]
  },
  {
   "cell_type": "code",
   "execution_count": 322,
   "id": "88cee39b",
   "metadata": {
    "scrolled": true
   },
   "outputs": [
    {
     "data": {
      "text/plain": [
       "array([[[255, 255, 255],\n",
       "        [255, 255, 255],\n",
       "        [255, 255, 255],\n",
       "        ...,\n",
       "        [255, 255, 255],\n",
       "        [255, 255, 255],\n",
       "        [255, 255, 255]],\n",
       "\n",
       "       [[255, 255, 255],\n",
       "        [255, 255, 255],\n",
       "        [255, 255, 255],\n",
       "        ...,\n",
       "        [255, 255, 255],\n",
       "        [255, 255, 255],\n",
       "        [255, 255, 255]],\n",
       "\n",
       "       [[255, 255, 255],\n",
       "        [255, 255, 255],\n",
       "        [255, 255, 255],\n",
       "        ...,\n",
       "        [255, 255, 255],\n",
       "        [255, 255, 255],\n",
       "        [255, 255, 255]],\n",
       "\n",
       "       ...,\n",
       "\n",
       "       [[255, 255, 255],\n",
       "        [255, 255, 255],\n",
       "        [255, 255, 255],\n",
       "        ...,\n",
       "        [255, 255, 255],\n",
       "        [255, 255, 255],\n",
       "        [255, 255, 255]],\n",
       "\n",
       "       [[255, 255, 255],\n",
       "        [255, 255, 255],\n",
       "        [255, 255, 255],\n",
       "        ...,\n",
       "        [255, 255, 255],\n",
       "        [255, 255, 255],\n",
       "        [255, 255, 255]],\n",
       "\n",
       "       [[255, 255, 255],\n",
       "        [255, 255, 255],\n",
       "        [255, 255, 255],\n",
       "        ...,\n",
       "        [255, 255, 255],\n",
       "        [255, 255, 255],\n",
       "        [255, 255, 255]]], dtype=uint8)"
      ]
     },
     "execution_count": 322,
     "metadata": {},
     "output_type": "execute_result"
    }
   ],
   "source": [
    "img_blur"
   ]
  },
  {
   "cell_type": "code",
   "execution_count": 122,
   "id": "ee8785d0",
   "metadata": {},
   "outputs": [
    {
     "name": "stdout",
     "output_type": "stream",
     "text": [
      "735183\n"
     ]
    },
    {
     "data": {
      "text/plain": [
       "<matplotlib.image.AxesImage at 0x7fa4048c6e00>"
      ]
     },
     "execution_count": 122,
     "metadata": {},
     "output_type": "execute_result"
    },
    {
     "data": {
      "image/png": "[encoded data removed]",
      "text/plain": [
       "<Figure size 640x480 with 1 Axes>"
      ]
     },
     "metadata": {},
     "output_type": "display_data"
    }
   ],
   "source": [
    "img_clear = cv2.imread(ones['img_path'][13500])\n",
    "print(ones['background'][15000])\n",
    "_, img_clear = cv2.threshold(img_clear, img_clear.mean()*0.4, 255, cv2.THRESH_BINARY)\n",
    "plt.imshow(img_clear)"
   ]
  },
  {
   "cell_type": "code",
   "execution_count": 44,
   "id": "c374013c",
   "metadata": {},
   "outputs": [
    {
     "data": {
      "text/plain": [
       "665955"
      ]
     },
     "execution_count": 44,
     "metadata": {},
     "output_type": "execute_result"
    }
   ],
   "source": [
    "ones['background'][10000]"
   ]
  },
  {
   "cell_type": "code",
   "execution_count": 46,
   "id": "75fba168",
   "metadata": {},
   "outputs": [
    {
     "data": {
      "text/plain": [
       "<matplotlib.image.AxesImage at 0x7fa406a99210>"
      ]
     },
     "execution_count": 46,
     "metadata": {},
     "output_type": "execute_result"
    },
    {
     "data": {
      "image/png": "[encoded data removed]",
      "text/plain": [
       "<Figure size 640x480 with 1 Axes>"
      ]
     },
     "metadata": {},
     "output_type": "display_data"
    }
   ],
   "source": [
    "plt.imshow(cv2.threshold(img, img.mean()*0.75, 255, cv2.THRESH_BINARY)[1])"
   ]
  },
  {
   "cell_type": "code",
   "execution_count": null,
   "id": "31606d7d",
   "metadata": {
    "scrolled": true
   },
   "outputs": [],
   "source": []
  },
  {
   "cell_type": "code",
   "execution_count": null,
   "id": "d0048148",
   "metadata": {},
   "outputs": [],
   "source": []
  }
 ],
 "metadata": {
  "kernelspec": {
   "display_name": "Python 3 (ipykernel)",
   "language": "python",
   "name": "python3"
  },
  "language_info": {
   "codemirror_mode": {
    "name": "ipython",
    "version": 3
   },
   "file_extension": ".py",
   "mimetype": "text/x-python",
   "name": "python",
   "nbconvert_exporter": "python",
   "pygments_lexer": "ipython3",
   "version": "3.10.6"
  }
 },
 "nbformat": 4,
 "nbformat_minor": 5
}
